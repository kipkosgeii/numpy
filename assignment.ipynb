{
 "cells": [
  {
   "cell_type": "code",
   "execution_count": 46,
   "metadata": {},
   "outputs": [],
   "source": [
    "import numpy as np\n",
    "\n",
    "heights = np.array([160, 155, 172, 165, 180, 158, 175, 163, 171, 168])\n"
   ]
  },
  {
   "cell_type": "code",
   "execution_count": 47,
   "metadata": {},
   "outputs": [
    {
     "name": "stdout",
     "output_type": "stream",
     "text": [
      "the mean is:  166.7\n",
      "The median is:  166.5\n",
      "the standard deviation:  7.5372408744845085\n"
     ]
    }
   ],
   "source": [
    "# Calculate the mean, median, and standard deviation of the students' heights.\n",
    "\n",
    "# finind the mean \n",
    "print('the mean is: ', heights.mean())\n",
    "\n",
    "# The median\n",
    "\n",
    "print('The median is: ',np.median(heights))\n",
    "\n",
    "# standard deviation\n",
    "\n",
    "print('the standard deviation: ', np.std(heights))"
   ]
  },
  {
   "cell_type": "code",
   "execution_count": 48,
   "metadata": {},
   "outputs": [
    {
     "name": "stdout",
     "output_type": "stream",
     "text": [
      "[137.88315343 132.88315343 149.88315343 142.88315343 157.88315343\n",
      " 135.88315343 152.88315343 140.88315343 148.88315343 145.88315343]\n"
     ]
    }
   ],
   "source": [
    "# Create a new array with the heights normalized, i.e.,\n",
    "# each height value should be transformed to have a mean of 0 and a standard deviation of 1.\n",
    "\n",
    "print((heights-np.mean(heights)/np.std(heights)))"
   ]
  },
  {
   "cell_type": "code",
   "execution_count": 49,
   "metadata": {},
   "outputs": [
    {
     "name": "stdout",
     "output_type": "stream",
     "text": [
      "The tallest student:  4\n",
      "The shortest student:  1\n"
     ]
    }
   ],
   "source": [
    "# Determine the tallest and shortest students in the class using NumPy's argmax and argmin functions.\n",
    "\n",
    "print('The tallest student: ', np.argmax(heights))\n",
    "\n",
    "print('The shortest student: ', np.argmin(heights))"
   ]
  },
  {
   "cell_type": "code",
   "execution_count": 50,
   "metadata": {},
   "outputs": [
    {
     "name": "stdout",
     "output_type": "stream",
     "text": [
      "the difference is 25\n"
     ]
    }
   ],
   "source": [
    "# Calculate the difference between the tallest and shortest students' heights.\n",
    "\n",
    "print(\"the difference is\", np.max(heights)-np.min(heights))"
   ]
  },
  {
   "cell_type": "code",
   "execution_count": 51,
   "metadata": {},
   "outputs": [
    {
     "name": "stdout",
     "output_type": "stream",
     "text": [
      "[163 180 172 165 160]\n"
     ]
    }
   ],
   "source": [
    "# Randomly select 5 heights from the dataset without replacement.\n",
    "\n",
    "print(np.random.choice(heights,5, replace=False))\n"
   ]
  }
 ],
 "metadata": {
  "kernelspec": {
   "display_name": "Python 3",
   "language": "python",
   "name": "python3"
  },
  "language_info": {
   "codemirror_mode": {
    "name": "ipython",
    "version": 3
   },
   "file_extension": ".py",
   "mimetype": "text/x-python",
   "name": "python",
   "nbconvert_exporter": "python",
   "pygments_lexer": "ipython3",
   "version": "3.10.12"
  },
  "orig_nbformat": 4
 },
 "nbformat": 4,
 "nbformat_minor": 2
}
